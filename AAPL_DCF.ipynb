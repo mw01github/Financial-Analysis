{
 "cells": [
  {
   "cell_type": "code",
   "execution_count": 1,
   "metadata": {},
   "outputs": [],
   "source": [
    "import requests\n",
    "import pandas as pd\n",
    "\n",
    "import datetime\n",
    "\n",
    "import numpy as np\n",
    "import pandas as pd\n",
    "from matplotlib import pyplot as plt\n",
    "\n",
    "import yfinance as yf\n",
    "import pandas_datareader as pdr"
   ]
  },
  {
   "cell_type": "code",
   "execution_count": 73,
   "metadata": {},
   "outputs": [
    {
     "name": "stdout",
     "output_type": "stream",
     "text": [
      "[*********************100%%**********************]  1 of 1 completed\n",
      "[*********************100%%**********************]  1 of 1 completed\n"
     ]
    }
   ],
   "source": [
    "ticker = 'AAPL'\n",
    "headers = {'User-Agent': 'Mozilla/5.0'}\n",
    "\n",
    "start_date = datetime.datetime(2010, 9, 1)\n",
    "end_date = datetime.datetime(2023, 9, 1)\n",
    "TenYearBond = yf.download('^TNX', start_date, end_date).reindex(pd.date_range(start_date, end_date)).interpolate(method='nearest')\n",
    "stock = yf.download(ticker, start_date, end_date).reindex(pd.date_range(start_date, end_date)).interpolate(method='nearest')\n",
    "\n",
    "tickersResponse = requests.get('https://www.sec.gov/files/company_tickers.json', headers=headers)\n",
    "tickers = pd.DataFrame.from_dict(tickersResponse.json(), orient='index')\n",
    "cik = str(tickers[tickers['ticker'] == ticker]['cik_str'][0]).zfill(10)\n",
    "\n",
    "factsResponse = requests.get('https://data.sec.gov/api/xbrl/companyfacts/CIK' + cik + '.json', headers=headers)\n",
    "concepts = []\n",
    "for col1 in factsResponse.json()['facts'].keys():\n",
    "    for col2 in factsResponse.json()['facts'][col1].keys():\n",
    "        concept = '/' + col1 + '/' + col2 + '.json'\n",
    "        concepts.append(concept)\n",
    "\n",
    "conceptResponse = requests.get('https://data.sec.gov/api/xbrl/companyconcept/CIK' + cik + concepts[282], headers=headers)\n",
    "CashOperExp = pd.DataFrame.from_dict(conceptResponse.json()['units']['USD'])\n",
    "conceptResponse = requests.get('https://data.sec.gov/api/xbrl/companyconcept/CIK' + cik + concepts[361], headers=headers)\n",
    "CapEx = pd.DataFrame.from_dict(conceptResponse.json()['units']['USD'])\n",
    "conceptResponse = requests.get('https://data.sec.gov/api/xbrl/companyconcept/CIK' + cik + concepts[284], headers=headers)\n",
    "NetInc = pd.DataFrame.from_dict(conceptResponse.json()['units']['USD'])\n",
    "conceptResponse = requests.get('https://data.sec.gov/api/xbrl/companyconcept/CIK' + cik + concepts[0], headers=headers)\n",
    "SharesOutstanding = pd.DataFrame.from_dict(conceptResponse.json()['units']['shares'])\n",
    "conceptResponse = requests.get('https://data.sec.gov/api/xbrl/companyconcept/CIK' + cik + concepts[395], headers=headers)\n",
    "Revenue = pd.DataFrame.from_dict(conceptResponse.json()['units']['USD'])\n",
    "conceptResponse = requests.get('https://data.sec.gov/api/xbrl/companyconcept/CIK' + cik + concepts[240], headers=headers)\n",
    "IntExp = pd.DataFrame.from_dict(conceptResponse.json()['units']['USD'])\n",
    "conceptResponse = requests.get('https://data.sec.gov/api/xbrl/companyconcept/CIK' + cik + concepts[264], headers=headers)\n",
    "ShortLongTermDebt = pd.DataFrame.from_dict(conceptResponse.json()['units']['USD'])\n",
    "conceptResponse = requests.get('https://data.sec.gov/api/xbrl/companyconcept/CIK' + cik + concepts[272], headers=headers)\n",
    "LongTermDebt = pd.DataFrame.from_dict(conceptResponse.json()['units']['USD'])\n",
    "conceptResponse = requests.get('https://data.sec.gov/api/xbrl/companyconcept/CIK' + cik + concepts[148], headers=headers)\n",
    "EffTaxRate = pd.DataFrame.from_dict(conceptResponse.json()['units']['pure'])"
   ]
  },
  {
   "cell_type": "code",
   "execution_count": 74,
   "metadata": {},
   "outputs": [],
   "source": [
    "CashOperExp = CashOperExp[CashOperExp['frame'].str.len() == 6.0]\n",
    "CapEx = CapEx[CapEx['frame'].str.len() == 6.0]\n",
    "NetInc = NetInc[NetInc['frame'].str.len() == 6.0]\n",
    "SharesOutstanding = SharesOutstanding[SharesOutstanding['frame'].str[-2] == '4']\n",
    "Revenue = Revenue[Revenue['frame'].str.len() == 6.0]\n",
    "IntExp = IntExp[IntExp['frame'].str.len() == 6.0]\n",
    "ShortLongTermDebt = ShortLongTermDebt[ShortLongTermDebt['frame'].str[-2] == '3']\n",
    "LongTermDebt = LongTermDebt[LongTermDebt['frame'].str[-2] == '3']\n",
    "EffTaxRate = EffTaxRate[EffTaxRate['frame'].str.len() == 6.0]\n",
    "\n",
    "AvgRevInc = np.average((Revenue['val'] / Revenue.shift(1)['val'])[1:])\n",
    "\n",
    "NetIncMargin = pd.merge(NetInc[['frame', 'val']], Revenue[['frame', 'val']], on='frame')\n",
    "AvgNetIncMar = np.average(NetIncMargin['val_x'] / NetIncMargin['val_y'])\n",
    "\n",
    "FreeCashFlow = pd.merge(CashOperExp[['frame', 'val']], CapEx[['frame', 'val']], on='frame')\n",
    "FreeCashFlow['val_z'] = FreeCashFlow['val_x'] - FreeCashFlow['val_y']\n",
    "FreeNetRatio = pd.merge(FreeCashFlow[['frame', 'val_z']], NetInc[['frame', 'val']], on='frame')\n",
    "AvgFreeNet = np.average(FreeNetRatio['val_z'] / FreeNetRatio['val'])"
   ]
  },
  {
   "cell_type": "code",
   "execution_count": 76,
   "metadata": {},
   "outputs": [],
   "source": [
    "def DCF(year):\n",
    "    def valByYear(df, year):\n",
    "        return df[df['frame'].str.contains(str(year))]['val'].iloc[0]\n",
    "\n",
    "    #Calculate WACC\n",
    "    DebtRate = (valByYear(IntExp, year) / (valByYear(ShortLongTermDebt, year) + valByYear(LongTermDebt, year))) * (1 - valByYear(EffTaxRate, year))\n",
    "\n",
    "    Beta = 0.89\n",
    "    ExpMarkReturn = 0.1\n",
    "    CAPM = (TenYearBond.loc[pd.Timestamp(year, 9, 28)]['Close'] / 100) * (1 - Beta) + Beta * ExpMarkReturn\n",
    "\n",
    "    TotalDebt = valByYear(ShortLongTermDebt, year) + valByYear(LongTermDebt, year)\n",
    "    MarketCap = stock.loc[pd.Timestamp(year, 9, 28)]['Close'] * SharesOutstanding['val'].iloc[-1]\n",
    "\n",
    "    WACC = TotalDebt / (TotalDebt + MarketCap) * DebtRate + MarketCap / (TotalDebt + MarketCap) * CAPM\n",
    "\n",
    "    #Add discounted years\n",
    "    todaysValue = 0\n",
    "    forcastto = 4\n",
    "    terminalGrowthRate = 0.025\n",
    "    for forcastyear in range(1, forcastto + 1):\n",
    "        todaysValue += valByYear(Revenue, year) * (AvgRevInc ** forcastyear) * AvgNetIncMar * AvgFreeNet / ((1 + WACC) ** forcastyear)\n",
    "    #Add terminal value\n",
    "    todaysValue += valByYear(Revenue, year) * (AvgRevInc ** forcastto) * AvgNetIncMar * AvgFreeNet * (1 + terminalGrowthRate) / (WACC + terminalGrowthRate) / ((1 + WACC) ** forcastto)\n",
    "\n",
    "    #Unadjusted\n",
    "    #return todaysValue / valByYear(SharesOutstanding, year)\n",
    "    #Adjusted\n",
    "    return todaysValue / SharesOutstanding['val'].iloc[-1]"
   ]
  },
  {
   "cell_type": "code",
   "execution_count": 77,
   "metadata": {},
   "outputs": [
    {
     "data": {
      "text/plain": [
       "[<matplotlib.lines.Line2D at 0x16a09e290>]"
      ]
     },
     "execution_count": 77,
     "metadata": {},
     "output_type": "execute_result"
    },
    {
     "data": {
      "image/png": "[encoded data removed]",
      "text/plain": [
       "<Figure size 640x480 with 1 Axes>"
      ]
     },
     "metadata": {},
     "output_type": "display_data"
    }
   ],
   "source": [
    "DCFs = []\n",
    "X = []\n",
    "\n",
    "for i in range(2017, 2023):\n",
    "    DCFs.append(DCF(i))\n",
    "    X.append(pd.to_datetime(str(i) + '-09-28'))\n",
    "\n",
    "plt.plot(X, DCFs)\n",
    "plt.plot(stock['Close'])"
   ]
  }
 ],
 "metadata": {
  "kernelspec": {
   "display_name": "Python 3",
   "language": "python",
   "name": "python3"
  },
  "language_info": {
   "codemirror_mode": {
    "name": "ipython",
    "version": 3
   },
   "file_extension": ".py",
   "mimetype": "text/x-python",
   "name": "python",
   "nbconvert_exporter": "python",
   "pygments_lexer": "ipython3",
   "version": "3.11.4"
  }
 },
 "nbformat": 4,
 "nbformat_minor": 2
}
